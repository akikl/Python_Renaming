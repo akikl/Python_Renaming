{
 "cells": [
  {
   "cell_type": "code",
   "execution_count": 1,
   "id": "8ba48007",
   "metadata": {},
   "outputs": [],
   "source": [
    "import os \n",
    "import shutil"
   ]
  },
  {
   "cell_type": "code",
   "execution_count": 2,
   "id": "495443db",
   "metadata": {},
   "outputs": [],
   "source": [
    "# folder where images are present\n",
    "folder=r'C:/Users/Dell/Desktop/Python_classes/Pandas/keystone/test'\n",
    "file_extensions=['.jpg','.png','.pdf','.jpeg']\n",
    "images=[]"
   ]
  },
  {
   "cell_type": "code",
   "execution_count": 3,
   "id": "75140337",
   "metadata": {},
   "outputs": [
    {
     "name": "stdout",
     "output_type": "stream",
     "text": [
      "['Expense-Invoice-H0001.png', 'Expense-Invoice-H0002.png', 'Expense-Invoice-H0003.jpg', 'Expense-Invoice-H0004.jpg', 'Expense-Invoice-H0005.jpg', 'Expense-Invoice-H0006.jpg', 'Expense-Invoice-H0007.png', 'Expense-Invoice-H0008.png', 'Expense-Invoice-H0009.png', 'Expense-Invoice-H0010.jpg', 'Expense-Invoice-H0011.jpg', 'Expense-Invoice-H0012.jpg', 'Expense-Invoice-H0013.png', 'Expense-Invoice-H0014.png', 'Expense-Invoice-H0015.png', 'Expense-Invoice-H0016.png', 'Expense-Invoice-H0017.jpg', 'Expense-Invoice-H0018.png', 'Expense-Invoice-H0019.png', 'Expense-Invoice-H0020.png', 'Expense-Invoice-H0021.jpg', 'Expense-Invoice-H0022.png', 'Expense-Invoice-H0023.png', 'Expense-Invoice-H0024.png', 'Expense-Invoice-H0025.png', 'Expense-Invoice-H0026.jpg', 'Expense-Invoice-H0027.png', 'Expense-Invoice-H0028.png', 'Expense-Invoice-H0029.png', 'Expense-Invoice-H0030.png', 'Expense-Invoice-H0031.png', 'Expense-Invoice-H0032.jpg', 'Expense-Invoice-H0033.jpg', 'Expense-Invoice-H0034.png', 'Expense-Invoice-H0035.jpg', 'Expense-Invoice-H0036.jpg', 'Expense-Invoice-H0037.jpg', 'Expense-Invoice-H0038.jpg', 'Expense-Invoice-H0039.jpg', 'Expense-Invoice-H0040.png', 'Expense-Invoice-H0041.jpg', 'Expense-Invoice-H0042.jpg', 'Expense-Invoice-H0043.jpg', 'Expense-Invoice-H0044.png', 'Expense-Invoice-H0045.png', 'Expense-Invoice-H0046.jpg', 'Expense-Invoice-H0047.jpg', 'Expense-Invoice-H0048.jpg', 'Expense-Invoice-H0049.jpeg', 'Expense-Invoice-H0050.png', 'Expense-Invoice-H0051.png', 'Expense-Invoice-H0052.jpg', 'Expense-Invoice-H0053.png', 'Expense-Invoice-H0054.jpg', 'Expense-Invoice-H0055.jpg', 'Expense-Invoice-H0056.jpg', 'Expense-Invoice-H0057.png', 'Expense-Invoice-H0058.png', 'Expense-Invoice-H0059.png', 'Expense-Invoice-H0060.png', 'Expense-Invoice-H0061.png', 'Expense-Invoice-H0062.png', 'Expense-Invoice-H0063.png', 'Expense-Invoice-H0064.png', 'Expense-Invoice-H0065.png', 'Expense-Invoice-H0066.png', 'Expense-Invoice-H0067.jpg', 'Expense-Invoice-H0068.png', 'Expense-Invoice-H0069.png', 'Expense-Invoice-H0070.png', 'Expense-Invoice-H0071.png', 'Expense-Invoice-H0072.png', 'Expense-Invoice-H0073.jpg', 'Expense-Invoice-H0074.png', 'Expense-Invoice-H0075.jpg', 'Expense-Invoice-H0076.jpg', 'Expense-Invoice-H0077.jpg', 'Expense-Invoice-H0078.jpg', 'Expense-Invoice-H0079.jpg', 'Expense-Invoice-H0080.png', 'Expense-Invoice-H0081.png', 'Expense-Invoice-H0082.png', 'Expense-Invoice-H0083.png', 'Expense-Invoice-H0084.jpg', 'Expense-Invoice-H0085.jpg', 'Expense-Invoice-H0086.jpg', 'Expense-Invoice-H0087.jpeg', 'Expense-Invoice-H0088.jpg', 'Expense-Invoice-H0089.png', 'Expense-Invoice-H0090.png', 'Expense-Invoice-H0091.jpg', 'Expense-Invoice-H0092.jpg', 'Expense-Invoice-H0093.jpg', 'Expense-Invoice-H0094.jpg', 'Expense-Invoice-H0095.jpg', 'Expense-Invoice-H0096.png', 'Expense-Invoice-H0097.jpg', 'Expense-Invoice-H0098.png', 'Expense-Invoice-H0099.png', 'Expense-Invoice-H0100.jpg', 'Expense-Invoice-H0101.png', 'Expense-Invoice-H0102.jpeg', 'Expense-Invoice-H0103.jpeg', 'Expense-Invoice-H0104.jpeg', 'Expense-Invoice-H0105.jpeg', 'Expense-Invoice-H0106.jpeg', 'Expense-Invoice-H0107.jpeg', 'Expense-Invoice-H0108.jpeg', 'Expense-Invoice-H0109.jpeg', 'Expense-Invoice-H0110.jpeg', 'Expense-Invoice-H0111.jpeg', 'Expense-Invoice-H0112.jpeg', 'Expense-Invoice-H0113.jpeg', 'Expense-Invoice-H0114.jpeg', 'Expense-Invoice-H0115.jpeg', 'Expense-Invoice-H0116.jpeg', 'Expense-Invoice-H0117.jpeg', 'Expense-Invoice-H0118.jpeg', 'Expense-Invoice-H0119.jpeg', 'Expense-Invoice-H0120.jpeg', 'Expense-Invoice-H0121.jpeg', 'Expense-Invoice-H0122.jpeg', 'Expense-Invoice-H0123.jpeg', 'Expense-Invoice-H0124.png', 'Expense-Invoice-H0125.jpeg', 'Expense-Invoice-H0126.jpeg', 'Expense-Invoice-H0127.png', 'Expense-Invoice-H0128.jpeg', 'Expense-Invoice-H0129.png', 'Expense-Invoice-H0130.jpeg', 'Expense-Invoice-H0131.png', 'Expense-Invoice-H0132.jpeg', 'Expense-Invoice-H0133.jpeg', 'Expense-Invoice-H0134.jpeg', 'Expense-Invoice-H0135.jpeg', 'Expense-Invoice-H0136.jpeg', 'Expense-Invoice-H0137.jpeg', 'Expense-Invoice-H0138.jpg', 'Expense-Invoice-H0139.jpg', 'Expense-Invoice-H0140.jpg', 'Expense-Invoice-H0141.jpg', 'Expense-Invoice-H0142.jpg', 'Expense-Invoice-H0143.jpg', 'Expense-Invoice-H0144.jpg', 'Expense-Invoice-H0145.jpg', 'Expense-Invoice-H0146.jpg', 'Expense-Invoice-H0147.jpg', 'Expense-Invoice-H0148.jpg', 'Expense-Invoice-H0149.jpg', 'Expense-Invoice-H0150.jpg', 'Expense-Invoice-H0151.jpg', 'Expense-Invoice-H0152.jpg', 'Expense-Invoice-H0153.jpg', 'Expense-Invoice-H0154.jpg', 'Expense-Invoice-H0155.jpg', 'Expense-Invoice-H0156.jpg', 'Expense-Invoice-H0157.jpg', 'Expense-Invoice-H0158.jpg', 'Expense-Invoice-H0159.jpg', 'Expense-Invoice-H0160.jpg', 'Expense-Invoice-H0161.jpg', 'Expense-Invoice-H0162.jpg', 'Expense-Invoice-H0163.jpg', 'Expense-Invoice-H0164.jpg', 'Expense-Invoice-H0165.jpg', 'Expense-Invoice-H0166.jpg', 'Expense-Invoice-H0167.jpg', 'Expense-Invoice-H0168.jpg', 'Expense-Invoice-H0169.jpg', 'Expense-Invoice-H0170.jpg', 'Expense-Invoice-H0171.jpg', 'Expense-Invoice-H0172.jpg', 'Expense-Invoice-H0173.jpg', 'Expense-Invoice-H0174.jpg', 'Expense-Invoice-H0175.jpg', 'Expense-Invoice-H0176.jpg', 'Expense-Invoice-H0177.jpg', 'Expense-Invoice-H0178.jpg', 'Expense-Invoice-H0179.jpg', 'Expense-Invoice-H0180.jpg', 'Expense-Invoice-H0181.jpg', 'Expense-Invoice-H0182.jpg', 'Expense-Invoice-H0183.jpg', 'Expense-Invoice-H0184.jpg', 'Expense-Invoice-H0185.jpg', 'Expense-Invoice-H0186.jpg', 'Expense-Invoice-H0187.png', 'Expense-Invoice-H0188.jpg', 'Expense-Invoice-H0189.png', 'Expense-Invoice-H0190.jpg', 'Expense-Invoice-H0191.jpeg', 'Expense-Invoice-H0192.jpg', 'Expense-Invoice-H0193.jpg', 'Expense-Invoice-H0194.png', 'Expense-Invoice-H0195.jpg', 'Expense-Invoice-H0196.png', 'Expense-Invoice-H0197.png', 'Expense-Invoice-H0198.png', 'Expense-Invoice-H0199.jpg', 'Expense-Invoice-H0200.jpg', 'Expense-Invoice-H0201.png', 'Expense-Invoice-H0202.jpg', 'Expense-Invoice-H0203.jpg', 'Expense-Invoice-H0204.png', 'Expense-Invoice-H0205.jpg', 'Expense-Invoice-H0206.png', 'Expense-Invoice-H0207.jpeg', 'Expense-Invoice-H0208.jpeg', 'Expense-Invoice-H0209.png', 'Expense-Invoice-H0210.jpeg', 'Expense-Invoice-H0211.jpeg', 'Expense-Invoice-H0212.png', 'Expense-Invoice-H0213.png', 'Expense-Invoice-H0214.png', 'Expense-Invoice-H0215.png', 'Expense-Invoice-H0216.png', 'Expense-Invoice-H0217.png', 'Expense-Invoice-H0218.png', 'Expense-Invoice-H0219.jpg', 'Expense-Invoice-H0220.png', 'Expense-Invoice-H0221.png', 'Expense-Invoice-H0222.jpg', 'Expense-Invoice-H0223.jpg', 'Expense-Invoice-H0224.jpg', 'Expense-Invoice-H0225.jpg', 'Expense-Invoice-H0226.jpg', 'Expense-Invoice-H0227.png', 'Expense-Invoice-H0228.jpg', 'Expense-Invoice-H0229.jpg', 'Expense-Invoice-H0230.png', 'Expense-Invoice-H0231.jpg', 'Expense-Invoice-H0232.jpg', 'Expense-Invoice-H0233.png', 'Expense-Invoice-H0234.png', 'Expense-Invoice-H0235.jpg', 'Expense-Invoice-H0236.jpg', 'Expense-Invoice-H0237.jpg', 'Expense-Invoice-H0238.jpg', 'Expense-Invoice-H0239.jpg', 'Expense-Invoice-H0240.jpg', 'Expense-Invoice-H0241.jpg', 'Expense-Invoice-H0242.png', 'Expense-Invoice-H0243.jpg', 'Expense-Invoice-H0244.jpg', 'Expense-Invoice-H0245.jpg', 'Expense-Invoice-H0246.jpg', 'Expense-Invoice-H0247.jpg', 'Expense-Invoice-H0248.jpg', 'Expense-Invoice-H0249.jpg', 'Expense-Invoice-H0250.png', 'Expense-Invoice-H0251.jpg', 'Expense-Invoice-H0252.png', 'Expense-Invoice-H0253.jpg', 'Expense-Invoice-H0254.png', 'Expense-Invoice-H0255.png', 'Expense-Invoice-H0256.png', 'Expense-Invoice-H0257.png', 'Expense-Invoice-H0258.jpeg', 'Expense-Invoice-H0259.png', 'Expense-Invoice-H0260.jpeg', 'Expense-Invoice-H0261.jpg', 'Expense-Invoice-H0262.jpg', 'Expense-Invoice-H0263.jpg', 'Expense-Invoice-H0264.png', 'Expense-Invoice-H0265.jpg', 'Expense-Invoice-H0266.png', 'Expense-Invoice-H0267.png', 'Expense-Invoice-H0268.png', 'Expense-Invoice-H0269.jpg', 'Expense-Invoice-H0270.jpg', 'Expense-Invoice-H0271.jpg', 'Expense-Invoice-H0272.jpg', 'Expense-Invoice-H0273.jpeg', 'Expense-Invoice-H0274.jpg', 'Expense-Invoice-H0275.png', 'Expense-Invoice-H0276.jpeg', 'Expense-Invoice-H0277.jpg', 'Expense-Invoice-H0278.jpg', 'Expense-Invoice-H0279.jpg', 'Expense-Invoice-H0280.jpg', 'Expense-Invoice-H0281.jpg', 'Expense-Invoice-H0282.jpg', 'Expense-Invoice-H0283.jpg', 'Expense-Invoice-H0284.jpg', 'Expense-Invoice-H0285.jpg', 'Expense-Invoice-H0286.jpg']\n"
     ]
    }
   ],
   "source": [
    "#extracting images\n",
    "for i in os.listdir(folder):\n",
    "    if '.'+i.rsplit('.',1)[-1].lower() in file_extensions:\n",
    "        images.append(i)\n",
    "#print(images)"
   ]
  },
  {
   "cell_type": "code",
   "execution_count": 4,
   "id": "b48563f9",
   "metadata": {},
   "outputs": [],
   "source": [
    "# Creating folders from imagenames\n",
    "folder_names=[]\n",
    "for directory in images:\n",
    "    path =os.path.join(folder, directory) \n",
    "    folder_names.append(path.split('\\\\')[-1].rsplit('.',1)[0])\n",
    "for i in folder_names:\n",
    "    folders=os.path.join(folder, i)\n",
    "    try:\n",
    "        os.makedirs(folders)\n",
    "    except FileExistsError as e:\n",
    "        print(f'{folders} already exists')"
   ]
  },
  {
   "cell_type": "code",
   "execution_count": 5,
   "id": "5bb2c295",
   "metadata": {},
   "outputs": [],
   "source": [
    "# moving the images into respective folder\n",
    "for i in os.listdir(folder):\n",
    "    for j in images:\n",
    "        if i==j.rsplit('.',1)[0]:\n",
    "            shutil.move(os.path.abspath(j),os.path.abspath(i))"
   ]
  },
  {
   "cell_type": "code",
   "execution_count": null,
   "id": "f63693a6",
   "metadata": {},
   "outputs": [],
   "source": []
  },
  {
   "cell_type": "code",
   "execution_count": null,
   "id": "149ceb15",
   "metadata": {},
   "outputs": [],
   "source": []
  },
  {
   "cell_type": "code",
   "execution_count": null,
   "id": "e20491c1",
   "metadata": {},
   "outputs": [],
   "source": []
  }
 ],
 "metadata": {
  "kernelspec": {
   "display_name": "Python 3 (ipykernel)",
   "language": "python",
   "name": "python3"
  },
  "language_info": {
   "codemirror_mode": {
    "name": "ipython",
    "version": 3
   },
   "file_extension": ".py",
   "mimetype": "text/x-python",
   "name": "python",
   "nbconvert_exporter": "python",
   "pygments_lexer": "ipython3",
   "version": "3.10.9"
  }
 },
 "nbformat": 4,
 "nbformat_minor": 5
}
